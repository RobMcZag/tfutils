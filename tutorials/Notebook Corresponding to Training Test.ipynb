{
 "cells": [
  {
   "cell_type": "code",
   "execution_count": 22,
   "metadata": {
    "collapsed": true
   },
   "outputs": [],
   "source": [
    "\"\"\"This notebook illustrates how to look at the data created by the test in tfutils/tests/test.py:test_training\n",
    "\n",
    "To use this, you first have to run the testsin that file:\n",
    "\n",
    "    CUDA_VISIBLE_DEVICES=0 nosetests -s tfutils/tests/test.py\n",
    "    \n",
    "which will create records in the database. \n",
    "\n",
    "Then you can execute the commands in this notebook and see what's happening.   \n",
    "    \n",
    "\"\"\";"
   ]
  },
  {
   "cell_type": "code",
   "execution_count": 12,
   "metadata": {
    "collapsed": true
   },
   "outputs": [],
   "source": [
    "%matplotlib inline\n",
    "import matplotlib.pyplot as plt\n",
    "import pymongo as pm\n",
    "import numpy as np\n",
    "import scipy.signal as signal"
   ]
  },
  {
   "cell_type": "code",
   "execution_count": 2,
   "metadata": {
    "collapsed": false
   },
   "outputs": [],
   "source": [
    "import pymongo as pm\n",
    "conn = pm.MongoClient(port=29101)"
   ]
  },
  {
   "cell_type": "code",
   "execution_count": 3,
   "metadata": {
    "collapsed": false
   },
   "outputs": [
    {
     "data": {
      "text/plain": [
       "[u'erroropt-imnet_test',\n",
       " u'erroropt-vgg_test_vgg_obj_trainval2___RECENT',\n",
       " u'erroropt-vgg_test_vgg_obj_corrval2___RECENT',\n",
       " u'erroropt-vgg_test_vgg_obj_corrtest1___RECENT',\n",
       " u'erroropt-vgg_test_vgg_obj_trainval1___RECENT',\n",
       " u'erroropt-vgg_test_vgg_obj_corrtest12___RECENT',\n",
       " u'alexnet-3dworld',\n",
       " u'erroropt-vgg_test_vgg_obj_alltrain1___RECENT',\n",
       " u'erroropt-vgg_test_vgg_obj_corrval0___RECENT',\n",
       " u'erroropt-vgg_test_vgg_obj_corrtest10___RECENT',\n",
       " u'erroropt-vgg_test_vgg_obj_corrtest4___RECENT',\n",
       " u'erroropt-vgg_test_vgg_obj_corrval4___RECENT',\n",
       " u'erroropt-vgg_test_vgg_obj_trainval0___RECENT',\n",
       " u'erroropt-vgg_test_vgg_obj_trainval3___RECENT',\n",
       " u'alexnet-imnet',\n",
       " u'erroropt-vgg_test_vgg_obj_corrtest15___RECENT',\n",
       " u'erroropt-vgg_test_vgg_obj_corrtest2___RECENT',\n",
       " u'erroropt-vgg_test_vgg_obj_corrtest0___RECENT',\n",
       " u'erroropt-vgg_test_vgg_obj_corrval1___RECENT',\n",
       " u'erroropt-vgg_test_vgg_obj_corrtest3___RECENT',\n",
       " u'erroropt-vgg_test_vgg_obj_corrtest7___RECENT',\n",
       " u'erroropt-vgg_test_vgg_obj_corrtest8___RECENT',\n",
       " u'tfutils-test_testcol_training0___RECENT',\n",
       " u'erroropt-vgg_test',\n",
       " u'erroropt-vgg_test_vgg_obj_corrtest13___RECENT',\n",
       " u'tfutils-test',\n",
       " u'erroropt-vgg_test_vgg_obj_corrtest9___RECENT',\n",
       " u'alexnet-3dworld_alexnet_trainval3___RECENT',\n",
       " u'local',\n",
       " u'erroropt-imnet_test_alexnet_trainval0___RECENT',\n",
       " u'erroropt-vgg_test_vgg_obj_alltrain0___RECENT',\n",
       " u'erroropt-vgg_test_vgg_obj_corrtest5___RECENT',\n",
       " u'erroropt-vgg_test_vgg_obj_corrtest6___RECENT',\n",
       " u'erroropt-vgg_test_vgg_obj_corrval3___RECENT',\n",
       " u'erroropt-vgg_test_vgg_obj_corrtest11___RECENT',\n",
       " u'alexnet-imnet_alexnet_trainval3___RECENT',\n",
       " u'tfutils-test_testcol_training1___RECENT',\n",
       " u'admin',\n",
       " u'alexnet-3dworld_alexnet_trainval4___RECENT',\n",
       " u'alexnet-inet',\n",
       " u'alexnet-kanef-3dtest',\n",
       " u'erroropt-vgg_test_vgg_imnet_trainval0___RECENT',\n",
       " u'normalnet-test',\n",
       " u'tconvnet-alexnet-test',\n",
       " u'tfutils-test_testcol2_training2___RECENT',\n",
       " u'tfutils-test_testcol_validation0___RECENT',\n",
       " u'tfutils-test_testcol_validation1___RECENT',\n",
       " u'vgg16-imnet-test2']"
      ]
     },
     "execution_count": 3,
     "metadata": {},
     "output_type": "execute_result"
    }
   ],
   "source": [
    "conn.database_names()"
   ]
  },
  {
   "cell_type": "code",
   "execution_count": 4,
   "metadata": {
    "collapsed": true
   },
   "outputs": [],
   "source": [
    "coll = conn['tfutils-test']['testcol.files']"
   ]
  },
  {
   "cell_type": "code",
   "execution_count": 5,
   "metadata": {
    "collapsed": false
   },
   "outputs": [
    {
     "data": {
      "text/plain": [
       "[u'validation1', u'training0', u'validation0', u'training1']"
      ]
     },
     "execution_count": 5,
     "metadata": {},
     "output_type": "execute_result"
    }
   ],
   "source": [
    "coll.distinct('exp_id')"
   ]
  },
  {
   "cell_type": "code",
   "execution_count": 6,
   "metadata": {
    "collapsed": false
   },
   "outputs": [
    {
     "data": {
      "text/plain": [
       "51"
      ]
     },
     "execution_count": 6,
     "metadata": {},
     "output_type": "execute_result"
    }
   ],
   "source": [
    "coll.find({'exp_id': 'training0'}).count()"
   ]
  },
  {
   "cell_type": "code",
   "execution_count": 9,
   "metadata": {
    "collapsed": true
   },
   "outputs": [],
   "source": [
    "r = coll.find({'exp_id': 'training0', 'step': 0})[0]"
   ]
  },
  {
   "cell_type": "code",
   "execution_count": 15,
   "metadata": {
    "collapsed": false
   },
   "outputs": [],
   "source": [
    "train_vec = np.concatenate([[(_r['loss'], _r['learning_rate']) for _r in r['train_results']] \n",
    "                            for r in conn['tfutils-test']['testcol.files'].find(\n",
    "                                       {'exp_id': 'training0', 'train_results': {'$exists': True}},\n",
    "        projection=['train_results'])])\n"
   ]
  },
  {
   "cell_type": "code",
   "execution_count": 21,
   "metadata": {
    "collapsed": false
   },
   "outputs": [
    {
     "data": {
      "text/plain": [
       "<matplotlib.text.Text at 0x7f8c3a9f5e90>"
      ]
     },
     "execution_count": 21,
     "metadata": {},
     "output_type": "execute_result"
    },
    {
     "data": {
      "image/png": "[encoded data removed]",
      "text/plain": [
       "<matplotlib.figure.Figure at 0x7f8c3cd26d90>"
      ]
     },
     "metadata": {},
     "output_type": "display_data"
    },
    {
     "data": {
      "image/png": "[encoded data removed]",
      "text/plain": [
       "<matplotlib.figure.Figure at 0x7f8c7dfe8c90>"
      ]
     },
     "metadata": {},
     "output_type": "display_data"
    }
   ],
   "source": [
    "plt.plot(train_vec[:, 0])\n",
    "plt.xlabel('number of batches')\n",
    "plt.ylabel('loss')\n",
    "\n",
    "plt.figure()\n",
    "plt.plot(train_vec[:, 1])\n",
    "plt.xlabel('number of batches')\n",
    "plt.ylabel('learning rate')"
   ]
  },
  {
   "cell_type": "code",
   "execution_count": 19,
   "metadata": {
    "collapsed": false
   },
   "outputs": [
    {
     "data": {
      "text/plain": [
       "array([[ 2.30256367,  0.05      ],\n",
       "       [ 2.30250454,  0.05      ],\n",
       "       [ 2.30253649,  0.05      ],\n",
       "       ..., \n",
       "       [ 0.10421684,  0.01386947],\n",
       "       [ 0.22150579,  0.01386947],\n",
       "       [ 0.2298585 ,  0.01386947]])"
      ]
     },
     "execution_count": 19,
     "metadata": {},
     "output_type": "execute_result"
    }
   ],
   "source": [
    "train_vec"
   ]
  },
  {
   "cell_type": "code",
   "execution_count": null,
   "metadata": {
    "collapsed": true
   },
   "outputs": [],
   "source": []
  }
 ],
 "metadata": {
  "kernelspec": {
   "display_name": "Python 2",
   "language": "python",
   "name": "python2"
  },
  "language_info": {
   "codemirror_mode": {
    "name": "ipython",
    "version": 2
   },
   "file_extension": ".py",
   "mimetype": "text/x-python",
   "name": "python",
   "nbconvert_exporter": "python",
   "pygments_lexer": "ipython2",
   "version": "2.7.12"
  }
 },
 "nbformat": 4,
 "nbformat_minor": 2
}
